{
 "cells": [
  {
   "cell_type": "code",
   "execution_count": 1,
   "metadata": {},
   "outputs": [
    {
     "name": "stdout",
     "output_type": "stream",
     "text": [
      "hello world!\n"
     ]
    }
   ],
   "source": [
    "#Hello World Program\n",
    "print(\"hello world!\")"
   ]
  },
  {
   "cell_type": "code",
   "execution_count": 2,
   "metadata": {},
   "outputs": [
    {
     "name": "stdout",
     "output_type": "stream",
     "text": [
      "enter the ith value u want to enter:2\n",
      "enter a value:13\n",
      "1\n"
     ]
    }
   ],
   "source": [
    "#program to find the ith bit value of the number\n",
    "\n",
    "\n",
    "i=eval(input(\"enter the ith value u want to enter:\"))\n",
    "a=eval(input(\"enter a value:\"))\n",
    "mask=1<<i\n",
    "if(a&mask==0):\n",
    "    print(\"0\")\n",
    "else:\n",
    "    print(\"1\")"
   ]
  },
  {
   "cell_type": "code",
   "execution_count": 3,
   "metadata": {},
   "outputs": [
    {
     "name": "stdout",
     "output_type": "stream",
     "text": [
      "enter n value3\n",
      "27\n"
     ]
    }
   ],
   "source": [
    "#cube of a number\n",
    "\n",
    "n=eval(input(\"enter n value\"))\n",
    "result=n*n*n\n",
    "print(result)"
   ]
  },
  {
   "cell_type": "code",
   "execution_count": null,
   "metadata": {},
   "outputs": [],
   "source": [
    "# 1.normal program to find prime number\n",
    "\n",
    "\n",
    "n=eval(input(\"enter n value:\"))\n",
    "count=0\n",
    "for i in range(1,n+1):\n",
    "    if n%i==0:\n",
    "        count=count+1\n",
    "if count==2:\n",
    "    print(\"prime\")\n",
    "else:\n",
    "    print(\"Not a prime\")\n",
    "    \n",
    "    \n"
   ]
  },
  {
   "cell_type": "code",
   "execution_count": null,
   "metadata": {},
   "outputs": [],
   "source": [
    "# 2.program to find prime number\n",
    "\n",
    "\n",
    "n=eval(input(\"enter n value:\"))\n",
    "count=0\n",
    "for i in range(2,int(n/2)+1):\n",
    "    if n%i==0:\n",
    "        count=count+1\n",
    "if count==0:\n",
    "    print(\"prime\")\n",
    "else:\n",
    "    print(\"Not a prime\")\n"
   ]
  },
  {
   "cell_type": "code",
   "execution_count": null,
   "metadata": {},
   "outputs": [],
   "source": [
    "# 3.fast processing of prime number program\n",
    "\n",
    "from math import *\n",
    "n=eval(input(\"enter n value:\"))\n",
    "count=0\n",
    "for i in range(2,int(sqrt(n))+1):\n",
    "    if n%i==0:\n",
    "        count=count+1\n",
    "if count==0:\n",
    "    print(\"prime\")\n",
    "else:\n",
    "    print(\"Not a prime\")\n"
   ]
  },
  {
   "cell_type": "code",
   "execution_count": 16,
   "metadata": {},
   "outputs": [
    {
     "name": "stdout",
     "output_type": "stream",
     "text": [
      "enter a value12\n",
      "[1, 2, 3, 4, 6, 12]\n"
     ]
    }
   ],
   "source": [
    "# 1.program to find all the divisors of a number\n",
    "\n",
    "n=eval(input(\"enter a value\"))\n",
    "list=[]\n",
    "for i in range(1,n+1):\n",
    "    if(n%i==0):\n",
    "        \n",
    "        list.append(i)\n",
    "        \n",
    "print(list)"
   ]
  },
  {
   "cell_type": "code",
   "execution_count": 17,
   "metadata": {},
   "outputs": [
    {
     "name": "stdout",
     "output_type": "stream",
     "text": [
      "enter a value12\n",
      "[1, 2, 3, 4, 6, 12]\n"
     ]
    }
   ],
   "source": [
    "# 2.\n",
    "\n",
    "n=eval(input(\"enter a value\"))\n",
    "list=[]\n",
    "for i in range(1,int((n/2))+1):\n",
    "    if(n%i==0):\n",
    "        \n",
    "        list.append(i)\n",
    "list.append(n)        \n",
    "print(list)\n"
   ]
  },
  {
   "cell_type": "code",
   "execution_count": 22,
   "metadata": {},
   "outputs": [
    {
     "name": "stdout",
     "output_type": "stream",
     "text": [
      "enter a value12\n",
      "[1, 2, 3, 4, 6, 12]\n"
     ]
    }
   ],
   "source": [
    "# 3.\n",
    "\n",
    "n=eval(input(\"enter a value\"))\n",
    "list=[]\n",
    "for i in range(1,int(sqrt(n))+1):\n",
    "    if(n%i==0):\n",
    "        \n",
    "        list.append(i)\n",
    "        list.append(int(n/i))\n",
    "list.sort()        \n",
    "print(list)"
   ]
  },
  {
   "cell_type": "code",
   "execution_count": 24,
   "metadata": {},
   "outputs": [
    {
     "name": "stdout",
     "output_type": "stream",
     "text": [
      "[1, 3, 4, 4, 5]\n"
     ]
    }
   ],
   "source": [
    "# simple program to arrange alll the numbers in a sequnce using sort()\n",
    "\n",
    "list=[3,4,5,1,4]\n",
    "list.sort()\n",
    "print(list)\n"
   ]
  },
  {
   "cell_type": "code",
   "execution_count": 32,
   "metadata": {},
   "outputs": [
    {
     "name": "stdout",
     "output_type": "stream",
     "text": [
      "1\n",
      "2\n",
      "3\n",
      "4\n",
      "repeated 4\n",
      "[1, 2, 3, 4, 4]\n"
     ]
    }
   ],
   "source": [
    "# program to find the repeated number in the list\n",
    "\n",
    "arr=[1,2,3,4,4]\n",
    "for i in range(0,len(arr)):\n",
    "    if((i+1)==arr[i]):\n",
    "        print(arr[i])\n",
    "        \n",
    "    else:\n",
    "        print(\"repeated\",arr[i])\n",
    "print(arr)"
   ]
  },
  {
   "cell_type": "code",
   "execution_count": 41,
   "metadata": {},
   "outputs": [
    {
     "name": "stdout",
     "output_type": "stream",
     "text": [
      "enter the ith value u want to enter:2\n",
      "enter a value:10\n",
      "14\n"
     ]
    }
   ],
   "source": [
    "# program to set ith bit value of a number ('0' as '1')\n",
    "i=eval(input(\"enter the ith value u want to enter:\"))\n",
    "a=eval(input(\"enter a value:\"))\n",
    "mask=1<<i\n",
    "print(a|mask)"
   ]
  },
  {
   "cell_type": "code",
   "execution_count": 5,
   "metadata": {},
   "outputs": [
    {
     "name": "stdout",
     "output_type": "stream",
     "text": [
      "I am Meenakshi Vutla\n",
      "I am Meenakshi Vutla\n",
      "I am Meenakshi Vutla\n",
      "I am Meenakshi Vutla\n",
      "I am Meenakshi Vutla\n",
      "I am Meenakshi Vutla\n",
      "I am Meenakshi Vutla\n",
      "I am Meenakshi Vutla\n",
      "I am Meenakshi Vutla\n",
      "I am Meenakshi Vutla\n"
     ]
    }
   ],
   "source": [
    "# Program to print the given input for 'n' times\n",
    "for i in range(1,11):\n",
    "    print(\"I am Meenakshi Vutla\")"
   ]
  },
  {
   "cell_type": "code",
   "execution_count": 14,
   "metadata": {},
   "outputs": [
    {
     "name": "stdout",
     "output_type": "stream",
     "text": [
      "1\n",
      "2\n",
      "3\n",
      "4\n",
      "5\n"
     ]
    }
   ],
   "source": [
    "# Program to print '1 to 5' numbers using FOR loop\n",
    "for i in range(1,6):\n",
    "     print(i)"
   ]
  },
  {
   "cell_type": "code",
   "execution_count": 55,
   "metadata": {},
   "outputs": [
    {
     "name": "stdout",
     "output_type": "stream",
     "text": [
      "1 2 3 4 5 "
     ]
    }
   ],
   "source": [
    "# program to print 1-5 numbers using while loop\n",
    "i=1\n",
    "while i<=5:\n",
    "    print(i,end=\" \")\n",
    "    i=i+1"
   ]
  },
  {
   "cell_type": "code",
   "execution_count": 24,
   "metadata": {},
   "outputs": [
    {
     "name": "stdout",
     "output_type": "stream",
     "text": [
      "NO sqaures\n",
      "1 1\n",
      "2 4\n",
      "3 9\n",
      "4 16\n",
      "5 25\n"
     ]
    }
   ],
   "source": [
    "# Program to print squares of a number\n",
    "print(\"NO sqaures\")\n",
    "for i in range(1,6):\n",
    "    print(i,i*i)"
   ]
  },
  {
   "cell_type": "code",
   "execution_count": 8,
   "metadata": {},
   "outputs": [
    {
     "name": "stdout",
     "output_type": "stream",
     "text": [
      "10\n",
      "9\n",
      "8\n",
      "7\n",
      "6\n",
      "5\n",
      "4\n",
      "3\n",
      "2\n",
      "1\n"
     ]
    }
   ],
   "source": [
    "#program to print the numbers in reverse order\n",
    "for i in range(10,0,-1):\n",
    "    print(i)"
   ]
  },
  {
   "cell_type": "code",
   "execution_count": 50,
   "metadata": {},
   "outputs": [
    {
     "name": "stdout",
     "output_type": "stream",
     "text": [
      "enter n value5\n",
      "5  is odd number\n"
     ]
    }
   ],
   "source": [
    "#Program to find odd or even number\n",
    "n=eval(input(\"enter n value\"))\n",
    "if n%2==0:\n",
    "        print(n,\" is even number\")\n",
    "\n",
    "else:\n",
    "        print(n,\" is odd number\")"
   ]
  },
  {
   "cell_type": "code",
   "execution_count": 1,
   "metadata": {},
   "outputs": [
    {
     "name": "stdout",
     "output_type": "stream",
     "text": [
      "enter start, end value1,10\n",
      "2 4 6 8 10 "
     ]
    }
   ],
   "source": [
    "# program to print the even numbers from \"1 to 10\"\n",
    "start,end=eval(input(\"enter start, end value\"))\n",
    "for i in range(start,end+1):\n",
    "    if i%2==0:\n",
    "        print(i,end=\" \")"
   ]
  },
  {
   "cell_type": "code",
   "execution_count": 4,
   "metadata": {},
   "outputs": [
    {
     "name": "stdout",
     "output_type": "stream",
     "text": [
      "9 7 5 3 1 "
     ]
    }
   ],
   "source": [
    "# program to print odd numbers from \"10-1\"\n",
    "i=9\n",
    "while i>=1:\n",
    "    print(i,end=\" \")\n",
    "    i=i-2"
   ]
  },
  {
   "cell_type": "code",
   "execution_count": 5,
   "metadata": {},
   "outputs": [
    {
     "name": "stdout",
     "output_type": "stream",
     "text": [
      "10 20 30 40 50 "
     ]
    }
   ],
   "source": [
    "# program to print 10 to 50 numbers by adding \"10\" using while loop\n",
    "i=10\n",
    "while i<=50:\n",
    "    print(i,end=\" \")\n",
    "    i=i+10"
   ]
  },
  {
   "cell_type": "code",
   "execution_count": 8,
   "metadata": {},
   "outputs": [
    {
     "name": "stdout",
     "output_type": "stream",
     "text": [
      "a*b= 200\n"
     ]
    }
   ],
   "source": [
    "a,b=10,20\n",
    "print(\"a*b=\",a*b)"
   ]
  },
  {
   "cell_type": "code",
   "execution_count": 5,
   "metadata": {},
   "outputs": [
    {
     "name": "stdout",
     "output_type": "stream",
     "text": [
      "<class 'int'>\n",
      "<class 'int'>\n",
      "<class 'str'>\n",
      "<class 'int'>\n",
      "<class 'float'>\n",
      "<class 'complex'>\n"
     ]
    }
   ],
   "source": [
    "a=5\n",
    "A=6\n",
    "B1='3.0'\n",
    "_a=4\n",
    "c=1.2e34\n",
    "d=1+2j\n",
    "print(type(a))\n",
    "print(type(A))\n",
    "print(type(B1))\n",
    "print(type(_a))\n",
    "print(type(c))\n",
    "print(type(d))"
   ]
  },
  {
   "cell_type": "code",
   "execution_count": 6,
   "metadata": {},
   "outputs": [
    {
     "name": "stdout",
     "output_type": "stream",
     "text": [
      "enter your favourite TV seriessoftware devloveper\n",
      "software devloveper\n"
     ]
    }
   ],
   "source": [
    "a=input(\"enter your favourite TV series\")\n",
    "print(a)"
   ]
  },
  {
   "cell_type": "code",
   "execution_count": 9,
   "metadata": {},
   "outputs": [
    {
     "name": "stdout",
     "output_type": "stream",
     "text": [
      "enter a value10\n",
      "enter b value20\n",
      "20\n",
      "10\n"
     ]
    }
   ],
   "source": [
    "# 1.swaping of two numbers without using third variable (+ -)\n",
    "a=eval(input(\"enter a value\"))\n",
    "b=eval(input(\"enter b value\"))\n",
    "a=a+b\n",
    "b=a-b\n",
    "a=a-b\n",
    "print(a)\n",
    "print(b)\n"
   ]
  },
  {
   "cell_type": "code",
   "execution_count": 13,
   "metadata": {},
   "outputs": [
    {
     "name": "stdout",
     "output_type": "stream",
     "text": [
      "enter a value10\n",
      "enter b value20\n",
      "20\n",
      "10\n"
     ]
    }
   ],
   "source": [
    "# 2.swaping of two variables without using third variable ( *  //) \n",
    "a=eval(input(\"enter a value\"))\n",
    "b=eval(input(\"enter b value\"))\n",
    "a=a*b\n",
    "b=a//b\n",
    "a=a//b\n",
    "print(a)\n",
    "print(b)"
   ]
  },
  {
   "cell_type": "code",
   "execution_count": 14,
   "metadata": {},
   "outputs": [
    {
     "name": "stdout",
     "output_type": "stream",
     "text": [
      "enter a value10\n",
      "enter b value20\n",
      "20\n",
      "10\n"
     ]
    }
   ],
   "source": [
    "# swaping of two numbers (using ^(exor)) \n",
    "a=eval(input(\"enter a value\"))\n",
    "b=eval(input(\"enter b value\"))\n",
    "a=a^b\n",
    "b=a^b\n",
    "a=a^b\n",
    "print(a)\n",
    "print(b)"
   ]
  },
  {
   "cell_type": "code",
   "execution_count": 15,
   "metadata": {},
   "outputs": [
    {
     "name": "stdout",
     "output_type": "stream",
     "text": [
      "20 10\n"
     ]
    }
   ],
   "source": [
    "# swaping\n",
    "a,b=10,20\n",
    "a,b=b,a\n",
    "print(a,b)"
   ]
  },
  {
   "cell_type": "code",
   "execution_count": 16,
   "metadata": {},
   "outputs": [
    {
     "name": "stdout",
     "output_type": "stream",
     "text": [
      "enter a value10\n",
      "enter b value20\n",
      "20\n",
      "10\n"
     ]
    }
   ],
   "source": [
    "# swaping \n",
    "a=eval(input(\"enter a value\"))\n",
    "b=eval(input(\"enter b value\"))\n",
    "c=a\n",
    "a=b\n",
    "b=c\n",
    "print(a)\n",
    "print(b)"
   ]
  },
  {
   "cell_type": "code",
   "execution_count": 19,
   "metadata": {},
   "outputs": [
    {
     "name": "stdout",
     "output_type": "stream",
     "text": [
      "11\n"
     ]
    }
   ],
   "source": [
    "# concatenation operator is performed only for str + str\n",
    "\n",
    "a=\"1\"\n",
    "b=\"1\"\n",
    "print(a+b)"
   ]
  },
  {
   "cell_type": "code",
   "execution_count": 7,
   "metadata": {},
   "outputs": [
    {
     "name": "stdout",
     "output_type": "stream",
     "text": [
      "6\n"
     ]
    }
   ],
   "source": [
    "# find the different number from the three numbers\n",
    "\n",
    "a=5\n",
    "b=6\n",
    "c=5\n",
    "print(a ^ b^ c)"
   ]
  },
  {
   "cell_type": "code",
   "execution_count": 25,
   "metadata": {},
   "outputs": [
    {
     "name": "stdout",
     "output_type": "stream",
     "text": [
      "enter a number7\n",
      "not cool\n"
     ]
    }
   ],
   "source": [
    "# even or not using ternary operator\n",
    "\n",
    "a=eval(input(\"enter a number\"))\n",
    "output= \"cool\" if (a%2==0) else \"not cool\"\n",
    "print(output)\n"
   ]
  },
  {
   "cell_type": "code",
   "execution_count": 8,
   "metadata": {},
   "outputs": [
    {
     "name": "stdout",
     "output_type": "stream",
     "text": [
      "enter n value:121\n",
      "not\n"
     ]
    }
   ],
   "source": [
    "#  ***** Palindrome or not   ********\n",
    "\n",
    "n=eval(input(\"enter n value:\"))\n",
    "sum=0\n",
    "m=n\n",
    "while(n>0):\n",
    "    r=n%10\n",
    "    sum=sum*10+r\n",
    "    n=n//10\n",
    "if(m==n):\n",
    "    print(\"palindrome\")\n",
    "else:\n",
    "    print(\"not\")\n",
    "        \n",
    "        \n"
   ]
  },
  {
   "cell_type": "code",
   "execution_count": null,
   "metadata": {},
   "outputs": [],
   "source": [
    "#palindrome or not\n",
    "s=\"abcba\"\n",
    "if(s[::]==s[::-1]):\n",
    "    print(\"palindrome\")\n",
    "else:\n",
    "    print(\"not palindrome\")"
   ]
  },
  {
   "cell_type": "code",
   "execution_count": 3,
   "metadata": {},
   "outputs": [
    {
     "name": "stdout",
     "output_type": "stream",
     "text": [
      "enter n value:5\n",
      "1\n",
      "2\n",
      "3\n",
      "5\n",
      "8\n"
     ]
    }
   ],
   "source": [
    "# fibonacci series\n",
    "n=eval(input(\"enter n value:\"))\n",
    "a=1\n",
    "b=2\n",
    "print(a)\n",
    "print(b)\n",
    "for i in range(3,n+1):\n",
    "        c=a+b\n",
    "        print(c)\n",
    "        a,b=b,c"
   ]
  },
  {
   "cell_type": "code",
   "execution_count": 4,
   "metadata": {},
   "outputs": [
    {
     "name": "stdout",
     "output_type": "stream",
     "text": [
      "enter n value:5\n",
      "0\n",
      "1\n",
      "1\n",
      "2\n",
      "3\n"
     ]
    }
   ],
   "source": [
    "# fibonacci series\n",
    "n=eval(input(\"enter n value:\"))\n",
    "a=0\n",
    "b=1\n",
    "print(a)\n",
    "print(b)\n",
    "for i in range(2,n):\n",
    "   c=a+b\n",
    "   print(c)\n",
    "   a,b=b,c"
   ]
  },
  {
   "cell_type": "code",
   "execution_count": 7,
   "metadata": {},
   "outputs": [
    {
     "name": "stdout",
     "output_type": "stream",
     "text": [
      "<class 'list'>\n",
      "<class 'tuple'>\n",
      "<class 'set'>\n"
     ]
    }
   ],
   "source": [
    "#  initialization\n",
    "\n",
    "l=list()\n",
    "print(type(l))\n",
    "t=tuple()\n",
    "print(type(t))\n",
    "s=set()\n",
    "print(type(s))"
   ]
  },
  {
   "cell_type": "code",
   "execution_count": 25,
   "metadata": {},
   "outputs": [
    {
     "name": "stdout",
     "output_type": "stream",
     "text": [
      "enter n value:5\n",
      "enter an integer: 1\n",
      "enter an integer: 2\n",
      "enter an integer: 3\n",
      "enter an integer: 2\n",
      "enter an integer: 1\n",
      "[1, 2, 3]\n"
     ]
    }
   ],
   "source": [
    "# removing the duplicate values by using sets\n",
    "\n",
    "n=eval(input(\"enter n value:\"))\n",
    "l=[]\n",
    "for i in range(0,n):\n",
    "    temp=int(input(\"enter an integer: \"))\n",
    "    l.append(temp)\n",
    "print(list(set(l)))"
   ]
  },
  {
   "cell_type": "code",
   "execution_count": 9,
   "metadata": {},
   "outputs": [
    {
     "name": "stdout",
     "output_type": "stream",
     "text": [
      "12\n",
      "14\n"
     ]
    }
   ],
   "source": [
    "# to print the even numbers in the list using while loop\n",
    "\n",
    "i=0\n",
    "l=[12,14,13,19,21]\n",
    "while(l[i]%2==0):\n",
    "        print(l[i])\n",
    "        i=i+1\n",
    "i=i+1"
   ]
  },
  {
   "cell_type": "code",
   "execution_count": 13,
   "metadata": {},
   "outputs": [
    {
     "name": "stdout",
     "output_type": "stream",
     "text": [
      "[10, 12, 14, 16, 24]\n",
      "[10, 12, 14, 16, 24, 15]\n"
     ]
    }
   ],
   "source": [
    "# creating the list\n",
    "\n",
    "\n",
    "l=[10,12,14,16,24]\n",
    "print(l)\n",
    "\n",
    "# adding new value into existing list\n",
    "\n",
    "l.append(15)\n",
    "print(l)\n"
   ]
  },
  {
   "cell_type": "code",
   "execution_count": 15,
   "metadata": {},
   "outputs": [
    {
     "name": "stdout",
     "output_type": "stream",
     "text": [
      "12\n",
      "10\n",
      "13\n",
      "14\n",
      "15\n"
     ]
    }
   ],
   "source": [
    "# # to print all the elements in the list using for looop without using range()\n",
    "\n",
    "l=[12,10,13,14,15]\n",
    "for i in l:\n",
    "    print(i)"
   ]
  },
  {
   "cell_type": "code",
   "execution_count": 17,
   "metadata": {},
   "outputs": [
    {
     "name": "stdout",
     "output_type": "stream",
     "text": [
      "12\n",
      "10\n",
      "13\n",
      "14\n",
      "15\n"
     ]
    }
   ],
   "source": [
    "# to print all the elements in the list using for looop using range()\n",
    "\n",
    "\n",
    "for i in range(0,len(l)):\n",
    "    print(l[i])"
   ]
  },
  {
   "cell_type": "code",
   "execution_count": 18,
   "metadata": {},
   "outputs": [
    {
     "name": "stdout",
     "output_type": "stream",
     "text": [
      "82\n"
     ]
    }
   ],
   "source": [
    "# adding the elements using sum()\n",
    "\n",
    "\n",
    "l=[10,12,16,20,24]\n",
    "print(sum(l))"
   ]
  },
  {
   "cell_type": "code",
   "execution_count": 26,
   "metadata": {},
   "outputs": [
    {
     "name": "stdout",
     "output_type": "stream",
     "text": [
      "11\n",
      "13\n",
      "17\n",
      "21\n",
      "25\n"
     ]
    }
   ],
   "source": [
    "# adding \"1\" to each element in the lsit\n",
    "\n",
    "\n",
    "l1=[10,12,16,20,24]\n",
    "for i in range(0,len(l)):\n",
    "    c=l[i]+1\n",
    "    print(c)\n",
    "    "
   ]
  },
  {
   "cell_type": "code",
   "execution_count": 29,
   "metadata": {},
   "outputs": [
    {
     "name": "stdout",
     "output_type": "stream",
     "text": [
      "70\n"
     ]
    }
   ],
   "source": [
    "# add the elements in the list using temporary variable\n",
    "\n",
    "l=[10,12,14,16,18]\n",
    "sum=0\n",
    "for i in range(0,len(l)):\n",
    "    sum=sum+l[i]\n",
    "print(sum)"
   ]
  },
  {
   "cell_type": "code",
   "execution_count": 32,
   "metadata": {},
   "outputs": [
    {
     "name": "stdout",
     "output_type": "stream",
     "text": [
      "12\n",
      "16\n",
      "[12, 16]\n"
     ]
    }
   ],
   "source": [
    "l=[10,12,13,14,16]\n",
    "l2=[]\n",
    "for i in range(0,len(l)):\n",
    "    if(l[i]%4==0):\n",
    "        print(l[i])\n",
    "        l2.append(l[i])\n",
    "print(l2)\n",
    "        \n",
    "        "
   ]
  },
  {
   "cell_type": "code",
   "execution_count": 44,
   "metadata": {},
   "outputs": [
    {
     "name": "stdout",
     "output_type": "stream",
     "text": [
      "1\n",
      "2\n",
      "3\n",
      "4\n",
      "**************************************  \n",
      "count value is incremented by no times is: 4\n"
     ]
    }
   ],
   "source": [
    "x=16\n",
    "count=0\n",
    "while x>1:\n",
    "    x=x//2\n",
    "    count=count+1\n",
    "    print(count)\n",
    "    \n",
    "print(\"**************************************  \")\n",
    "\n",
    "\n",
    "print(\"count value is incremented by no times is:\",count)"
   ]
  },
  {
   "cell_type": "code",
   "execution_count": 12,
   "metadata": {},
   "outputs": [
    {
     "name": "stdout",
     "output_type": "stream",
     "text": [
      "100\n"
     ]
    }
   ],
   "source": [
    "# print the non repeated element in the list\n",
    "\n",
    "arr=[1,100,2,1,2]\n",
    "ans=0\n",
    "for i in arr:\n",
    "        ans=ans^i\n",
    "print(ans)"
   ]
  },
  {
   "cell_type": "code",
   "execution_count": 14,
   "metadata": {},
   "outputs": [
    {
     "name": "stdout",
     "output_type": "stream",
     "text": [
      "enter n value:12\n",
      "6\n"
     ]
    }
   ],
   "source": [
    "# print the number of divisors for a number\n",
    "\n",
    "\n",
    "n=eval(input(\"enter n value:\"))\n",
    "num_of_divisors=0\n",
    "for i in range(1,n+1):\n",
    "    if n%i==0:\n",
    "        num_of_divisors=num_of_divisors +1\n",
    "print(count)"
   ]
  },
  {
   "cell_type": "code",
   "execution_count": null,
   "metadata": {},
   "outputs": [],
   "source": []
  }
 ],
 "metadata": {
  "kernelspec": {
   "display_name": "Python 3",
   "language": "python",
   "name": "python3"
  },
  "language_info": {
   "codemirror_mode": {
    "name": "ipython",
    "version": 3
   },
   "file_extension": ".py",
   "mimetype": "text/x-python",
   "name": "python",
   "nbconvert_exporter": "python",
   "pygments_lexer": "ipython3",
   "version": "3.7.4"
  }
 },
 "nbformat": 4,
 "nbformat_minor": 2
}
