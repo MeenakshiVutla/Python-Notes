{
 "cells": [
  {
   "cell_type": "code",
   "execution_count": 16,
   "metadata": {},
   "outputs": [
    {
     "name": "stdout",
     "output_type": "stream",
     "text": [
      "Add movie details or description,director details etc... for the movie\n",
      "Enter Movie Description: rrr\n",
      "enter director details: raja mouli\n",
      "the details are  NTR 2021 5 rrr raja mouli\n"
     ]
    }
   ],
   "source": [
    "class MovieDetails:\n",
    "    def __init__(self):\n",
    "        self.artistname=\"NTR\"\n",
    "        self.YOR =2021\n",
    "        self.ratings=5\n",
    "        self.description=''\n",
    "        self.director=''\n",
    "    def Add(self):\n",
    "        print(\"Add movie details or description,director details etc... for the movie\")\n",
    "        self.description=input(\"Enter Movie Description: \")\n",
    "        self.director=input(\"enter director details: \")\n",
    "    def display(self):\n",
    "        print(\"the details are \",self.artistname,self.YOR,self.ratings,self.description,self.director)\n",
    "    \n",
    "        \n",
    "m1=MovieDetails()\n",
    "m1.Add()\n",
    "m1.display()\n"
   ]
  },
  {
   "cell_type": "code",
   "execution_count": 7,
   "metadata": {},
   "outputs": [
    {
     "name": "stdout",
     "output_type": "stream",
     "text": [
      "Help on class MovieDetails in module __main__:\n",
      "\n",
      "class MovieDetails(builtins.object)\n",
      " |  Methods defined here:\n",
      " |  \n",
      " |  Add(self, m)\n",
      " |  \n",
      " |  __init__(self)\n",
      " |      Initialize self.  See help(type(self)) for accurate signature.\n",
      " |  \n",
      " |  display(self)\n",
      " |  \n",
      " |  ----------------------------------------------------------------------\n",
      " |  Data descriptors defined here:\n",
      " |  \n",
      " |  __dict__\n",
      " |      dictionary for instance variables (if defined)\n",
      " |  \n",
      " |  __weakref__\n",
      " |      list of weak references to the object (if defined)\n",
      "\n"
     ]
    }
   ],
   "source": [
    "help(MovieDetails)"
   ]
  },
  {
   "cell_type": "code",
   "execution_count": 29,
   "metadata": {},
   "outputs": [
    {
     "name": "stdout",
     "output_type": "stream",
     "text": [
      "account created\n",
      "deposit successful\n",
      "withdraw successful\n",
      "savings balance: 3000\n"
     ]
    }
   ],
   "source": [
    "class BankAccount:\n",
    "    def __init__(self,a,s):\n",
    "        self.accno=a\n",
    "        self.savings=s\n",
    "        print(\"account created\")\n",
    "    def deposit(self,d):\n",
    "        print(\"deposit successful\")\n",
    "        self.savings+=d\n",
    "    def withdraw(self,w):\n",
    "        if(self.savings>=w):\n",
    "            print(\"withdraw successful\")\n",
    "            self.savings-=w\n",
    "        else:\n",
    "            print(\"insufficient balance\")\n",
    "    def display(self): \n",
    "        print(\"savings balance:\",self.savings)\n",
    "            \n",
    "Meenakshi=BankAccount(1234567890,1000)\n",
    "\n",
    "Meenakshi.deposit(10000)\n",
    "Meenakshi.withdraw(8000)\n",
    "Meenakshi.display()\n",
    "        "
   ]
  },
  {
   "cell_type": "code",
   "execution_count": 27,
   "metadata": {},
   "outputs": [
    {
     "name": "stdout",
     "output_type": "stream",
     "text": [
      "account created\n",
      "deposit successful\n",
      "withdraw successful\n",
      "savings balance: 3000\n"
     ]
    }
   ],
   "source": [
    "class BankAccount:\n",
    "    def __init__(self,a,s):\n",
    "        self.__accno=a\n",
    "        self.__savings=s\n",
    "        print(\"account created\")\n",
    "    def deposit(self,d):\n",
    "        print(\"deposit successful\")\n",
    "        self.__savings+=d\n",
    "    def withdraw(self,w):\n",
    "        if(self.__savings>=w):\n",
    "            print(\"withdraw successful\")\n",
    "            self.__savings-=w\n",
    "        else:\n",
    "            print(\"insufficient balance\")\n",
    "    def display(self):\n",
    "        print(\"savings balance:\",self.__savings)\n",
    "            \n",
    "Meenakshi=BankAccount(1234567890,1000)\n",
    "\n",
    "Meenakshi.deposit(10000)\n",
    "Meenakshi.withdraw(8000)\n",
    "Meenakshi.display()\n"
   ]
  },
  {
   "cell_type": "code",
   "execution_count": null,
   "metadata": {},
   "outputs": [],
   "source": [
    "# CONSTRUCTOR:-  is a special functon that can be called automatically when we create object\n",
    "def __init__(self):\n",
    "#class:- blueprint of an object\n",
    "#object:-real time entity\n",
    "#self: self is the mandatory one (without the self we can get an typeerror while calling with the objects)\n"
   ]
  },
  {
   "cell_type": "code",
   "execution_count": 1,
   "metadata": {},
   "outputs": [
    {
     "name": "stdout",
     "output_type": "stream",
     "text": [
      "meenakshi\n"
     ]
    }
   ],
   "source": [
    "class abc:\n",
    "    def __init__(self,n,a):\n",
    "        self.name=n\n",
    "        self.age=a\n",
    "    def display(self):\n",
    "        print(\"*\"*20)\n",
    "        print(\"name: \",self.name)\n",
    "        print(\"age: \",self.age)\n",
    "        print(\"*\"*20)\n",
    "obj1=abc(\"meenakshi\",21)\n",
    "print(obj1.name)"
   ]
  },
  {
   "cell_type": "code",
   "execution_count": 2,
   "metadata": {},
   "outputs": [
    {
     "name": "stdout",
     "output_type": "stream",
     "text": [
      "********************\n",
      "name:  meenakshi\n",
      "age:  21\n",
      "********************\n"
     ]
    }
   ],
   "source": [
    "obj1.display()\n"
   ]
  },
  {
   "cell_type": "code",
   "execution_count": 3,
   "metadata": {},
   "outputs": [],
   "source": [
    "# withou using self variable by the use of implementing it as @staticmethod\n",
    "\n",
    "\n",
    "class abc:\n",
    "    def __init__(self,n,a):\n",
    "        self.name=n\n",
    "        self.age=a\n",
    "    def display(self):\n",
    "        print(\"*\"*20)\n",
    "        print(\"name: \",self.name)\n",
    "        print(\"age: \",self.age)\n",
    "        print(\"*\"*20)\n",
    "    @staticmethod\n",
    "    def utility():\n",
    "        print(\"hello world,this is utility methhod\")"
   ]
  },
  {
   "cell_type": "code",
   "execution_count": 4,
   "metadata": {},
   "outputs": [
    {
     "name": "stdout",
     "output_type": "stream",
     "text": [
      "meenakshi\n",
      "********************\n",
      "name:  meenakshi\n",
      "age:  21\n",
      "********************\n",
      "hello world,this is utility methhod\n"
     ]
    }
   ],
   "source": [
    "obj1=abc(\"meenakshi\",21)\n",
    "print(obj1.name)\n",
    "\n",
    "obj1.display()\n",
    "\n",
    "obj1.utility()"
   ]
  },
  {
   "cell_type": "code",
   "execution_count": null,
   "metadata": {},
   "outputs": [],
   "source": []
  }
 ],
 "metadata": {
  "kernelspec": {
   "display_name": "Python 3",
   "language": "python",
   "name": "python3"
  },
  "language_info": {
   "codemirror_mode": {
    "name": "ipython",
    "version": 3
   },
   "file_extension": ".py",
   "mimetype": "text/x-python",
   "name": "python",
   "nbconvert_exporter": "python",
   "pygments_lexer": "ipython3",
   "version": "3.7.4"
  }
 },
 "nbformat": 4,
 "nbformat_minor": 2
}
