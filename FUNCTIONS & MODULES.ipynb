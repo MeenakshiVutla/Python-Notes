{
 "cells": [
  {
   "cell_type": "code",
   "execution_count": 1,
   "metadata": {},
   "outputs": [
    {
     "name": "stdout",
     "output_type": "stream",
     "text": [
      "prime\n"
     ]
    }
   ],
   "source": [
    "#prime number using functions\n",
    "\n",
    "\n",
    "def prime(n):\n",
    "    count=0\n",
    "    for i in range(1,n+1):\n",
    "        if n%i==0:\n",
    "            count=count+1\n",
    "    if count==2:\n",
    "        print(\"prime\")\n",
    "    else:\n",
    "        print(\"not prime\")\n",
    "prime(7)\n"
   ]
  },
  {
   "cell_type": "code",
   "execution_count": 2,
   "metadata": {},
   "outputs": [
    {
     "data": {
      "text/plain": [
       "False"
      ]
     },
     "execution_count": 2,
     "metadata": {},
     "output_type": "execute_result"
    }
   ],
   "source": [
    "## prime number and print the output is either true or false (boolean value)\n",
    "\n",
    "def prime(num):\n",
    "    '''This function checks if the num is Prime or not and returns a boolean'''\n",
    "    number_of_div = 0\n",
    "    for i in range(2, int(num/2) + 1):\n",
    "        if(num % i == 0):\n",
    "            number_of_div += 1\n",
    "    if(number_of_div == 0):\n",
    "        return True\n",
    "    else:\n",
    "        return False\n",
    "prime(6)"
   ]
  },
  {
   "cell_type": "code",
   "execution_count": 3,
   "metadata": {},
   "outputs": [
    {
     "name": "stdout",
     "output_type": "stream",
     "text": [
      "not a prime\n"
     ]
    }
   ],
   "source": [
    "p=prime(9)\n",
    "\n",
    "if(p):\n",
    "    print(\"prime number\")\n",
    "else:\n",
    "    print(\"not a prime\")"
   ]
  },
  {
   "cell_type": "code",
   "execution_count": 4,
   "metadata": {},
   "outputs": [
    {
     "data": {
      "text/plain": [
       "120"
      ]
     },
     "execution_count": 4,
     "metadata": {},
     "output_type": "execute_result"
    }
   ],
   "source": [
    "#importing factorial function that presents in the python library\n",
    "\n",
    "import math\n",
    "math.factorial(5)"
   ]
  },
  {
   "cell_type": "code",
   "execution_count": 6,
   "metadata": {},
   "outputs": [
    {
     "name": "stdout",
     "output_type": "stream",
     "text": [
      "enter a number5\n"
     ]
    },
    {
     "data": {
      "text/plain": [
       "120"
      ]
     },
     "execution_count": 6,
     "metadata": {},
     "output_type": "execute_result"
    }
   ],
   "source": [
    "### 1.factorial program by importing math module\n",
    "\n",
    "\n",
    "import math\n",
    "n=eval(input(\"enter a number\"))\n",
    "math.factorial(n)"
   ]
  },
  {
   "cell_type": "code",
   "execution_count": 7,
   "metadata": {},
   "outputs": [
    {
     "name": "stdout",
     "output_type": "stream",
     "text": [
      "the factorial of {6} is 720\n"
     ]
    }
   ],
   "source": [
    "  # 2.factorial of a number using functions \n",
    "\n",
    "def factorial(n):\n",
    "    fact=1\n",
    "    for i in range(1,n+1):\n",
    "        fact=fact*i\n",
    "    return fact\n",
    "print(\"the factorial of {6} is\",factorial(6))"
   ]
  },
  {
   "cell_type": "code",
   "execution_count": 17,
   "metadata": {},
   "outputs": [
    {
     "name": "stdout",
     "output_type": "stream",
     "text": [
      "120\n"
     ]
    }
   ],
   "source": [
    "# 3.factorial aliasing or renaming\n",
    "import math as m\n",
    "print(m.factorial(5))"
   ]
  },
  {
   "cell_type": "code",
   "execution_count": 18,
   "metadata": {},
   "outputs": [
    {
     "name": "stdout",
     "output_type": "stream",
     "text": [
      "120\n"
     ]
    }
   ],
   "source": [
    "#4 factorial program by importing only fcatorial fun\n",
    "from math import factorial\n",
    "print(factorial(5))"
   ]
  },
  {
   "cell_type": "code",
   "execution_count": 19,
   "metadata": {},
   "outputs": [
    {
     "name": "stdout",
     "output_type": "stream",
     "text": [
      "3.141592653589793\n"
     ]
    }
   ],
   "source": [
    "from math import *\n",
    "print(pi)"
   ]
  },
  {
   "cell_type": "code",
   "execution_count": 20,
   "metadata": {},
   "outputs": [],
   "source": [
    "class Human:\n",
    "    def __init__(self,n,a,h,w,g):\n",
    "        self.name=n\n",
    "        self.age=a\n",
    "        self.height=h\n",
    "        self.weight=w\n",
    "        self.gender=g\n",
    "    def Update_age(self,a):\n",
    "        self.age(a)"
   ]
  },
  {
   "cell_type": "code",
   "execution_count": 21,
   "metadata": {},
   "outputs": [
    {
     "data": {
      "text/plain": [
       "'black'"
      ]
     },
     "execution_count": 21,
     "metadata": {},
     "output_type": "execute_result"
    }
   ],
   "source": [
    "class Car:\n",
    "    def __init__(self,c,b,m,s,f):\n",
    "        self.color=c\n",
    "        self.brand=b\n",
    "        self.model=m\n",
    "        self.seating=s\n",
    "        self.fuel_type=f\n",
    "    def update_color(self,c):\n",
    "        self.color=c\n",
    "    def update_fuel_type(self,f):\n",
    "        if(self.fuel_type==\"petrol\"):\n",
    "            self.fuel_type=f\n",
    "        else:\n",
    "            print(\"----------------------\")\n",
    "h=Car(\"black\",\"hyundai\",\"creta\",4,\"petrol\")\n",
    "h.color\n"
   ]
  },
  {
   "cell_type": "code",
   "execution_count": 22,
   "metadata": {},
   "outputs": [
    {
     "data": {
      "text/plain": [
       "6"
      ]
     },
     "execution_count": 22,
     "metadata": {},
     "output_type": "execute_result"
    }
   ],
   "source": [
    "s=Car(\"red\",\"maruthi\",\"2.0\",6,\"ptrl\")\n",
    "s.seating\n"
   ]
  },
  {
   "cell_type": "code",
   "execution_count": 23,
   "metadata": {},
   "outputs": [],
   "source": [
    "maruthi=Car(\"white\",\"suzuki\",\"Maruthi800\",5,\"petrol\")\n"
   ]
  },
  {
   "cell_type": "code",
   "execution_count": 24,
   "metadata": {},
   "outputs": [
    {
     "name": "stdout",
     "output_type": "stream",
     "text": [
      "<__main__.Car object at 0x00000239993A0688>\n"
     ]
    }
   ],
   "source": [
    "maruthi.update_fuel_type('cng')\n",
    "print(maruthi)"
   ]
  },
  {
   "cell_type": "code",
   "execution_count": null,
   "metadata": {},
   "outputs": [],
   "source": []
  },
  {
   "cell_type": "code",
   "execution_count": null,
   "metadata": {},
   "outputs": [],
   "source": []
  }
 ],
 "metadata": {
  "kernelspec": {
   "display_name": "Python 3",
   "language": "python",
   "name": "python3"
  },
  "language_info": {
   "codemirror_mode": {
    "name": "ipython",
    "version": 3
   },
   "file_extension": ".py",
   "mimetype": "text/x-python",
   "name": "python",
   "nbconvert_exporter": "python",
   "pygments_lexer": "ipython3",
   "version": "3.7.4"
  }
 },
 "nbformat": 4,
 "nbformat_minor": 2
}
